{
 "cells": [
  {
   "cell_type": "code",
   "execution_count": 1,
   "id": "99b70fd2",
   "metadata": {},
   "outputs": [],
   "source": [
    "from tensorflow.keras.layers import Input, Lambda, Dense, Flatten\n",
    "from tensorflow.keras.models import Model\n",
    "from tensorflow.keras.preprocessing import image\n",
    "from tensorflow.keras.preprocessing.image import ImageDataGenerator,load_img\n",
    "from tensorflow.keras.models import Sequential\n",
    "from tensorflow.keras.layers import MaxPooling2D\n",
    "from tensorflow.keras.layers import Conv2D\n",
    "\n",
    "import numpy as np\n",
    "from glob import glob"
   ]
  },
  {
   "cell_type": "code",
   "execution_count": 2,
   "id": "6da18bcb",
   "metadata": {},
   "outputs": [],
   "source": [
    "IMAGE_SIZE = [224, 224]\n",
    "\n",
    "train_path = 'data'\n"
   ]
  },
  {
   "cell_type": "code",
   "execution_count": 3,
   "id": "f224e8a5",
   "metadata": {},
   "outputs": [
    {
     "data": {
      "text/plain": [
       "['data\\\\test', 'data\\\\train']"
      ]
     },
     "execution_count": 3,
     "metadata": {},
     "output_type": "execute_result"
    }
   ],
   "source": [
    "folders = glob('data/*')\n",
    "folders"
   ]
  },
  {
   "cell_type": "code",
   "execution_count": 4,
   "id": "d69550a1",
   "metadata": {},
   "outputs": [],
   "source": [
    "Classifier=Sequential()\n",
    "\n",
    "Classifier.add(Conv2D(32,(3,3), input_shape=(224,224,3), activation='relu'))\n",
    "Classifier.add(MaxPooling2D(pool_size=(2,2)))\n",
    "\n",
    "Classifier.add(Conv2D(32,(3,3),activation='relu'))\n",
    "Classifier.add(MaxPooling2D(pool_size=(2,2)))\n",
    "\n",
    "Classifier.add(Flatten())\n",
    "\n",
    "Classifier.add(Dense(units = 128, activation = 'relu'))\n",
    "Classifier.add(Dense(units = 3, activation = 'softmax'))\n"
   ]
  },
  {
   "cell_type": "code",
   "execution_count": 5,
   "id": "0b29a4ea",
   "metadata": {},
   "outputs": [
    {
     "name": "stdout",
     "output_type": "stream",
     "text": [
      "Model: \"sequential\"\n",
      "_________________________________________________________________\n",
      " Layer (type)                Output Shape              Param #   \n",
      "=================================================================\n",
      " conv2d (Conv2D)             (None, 222, 222, 32)      896       \n",
      "                                                                 \n",
      " max_pooling2d (MaxPooling2D  (None, 111, 111, 32)     0         \n",
      " )                                                               \n",
      "                                                                 \n",
      " conv2d_1 (Conv2D)           (None, 109, 109, 32)      9248      \n",
      "                                                                 \n",
      " max_pooling2d_1 (MaxPooling  (None, 54, 54, 32)       0         \n",
      " 2D)                                                             \n",
      "                                                                 \n",
      " flatten (Flatten)           (None, 93312)             0         \n",
      "                                                                 \n",
      " dense (Dense)               (None, 128)               11944064  \n",
      "                                                                 \n",
      " dense_1 (Dense)             (None, 3)                 387       \n",
      "                                                                 \n",
      "=================================================================\n",
      "Total params: 11,954,595\n",
      "Trainable params: 11,954,595\n",
      "Non-trainable params: 0\n",
      "_________________________________________________________________\n"
     ]
    }
   ],
   "source": [
    "Classifier.compile(\n",
    "  loss='categorical_crossentropy',\n",
    "  optimizer='adam',\n",
    "  metrics=['accuracy']\n",
    ")\n",
    "Classifier.summary()"
   ]
  },
  {
   "cell_type": "code",
   "execution_count": 6,
   "id": "7b33711e",
   "metadata": {},
   "outputs": [],
   "source": [
    "from tensorflow.keras.preprocessing.image import ImageDataGenerator\n",
    "\n",
    "train_datagen = ImageDataGenerator(rescale = 1./255,\n",
    "                                   height_shift_range=0.2,\n",
    "                                   featurewise_center=True,\n",
    "                                   rotation_range=0.4,\n",
    "                                   horizontal_flip = True)\n",
    "\n",
    "test_datagen = ImageDataGenerator(rescale = 1./255,)"
   ]
  },
  {
   "cell_type": "code",
   "execution_count": 7,
   "id": "0d734e57",
   "metadata": {},
   "outputs": [
    {
     "name": "stdout",
     "output_type": "stream",
     "text": [
      "Found 258 images belonging to 3 classes.\n"
     ]
    }
   ],
   "source": [
    "# Make sure you provide the same target size as initialied for the image size\n",
    "training_set = train_datagen.flow_from_directory('data/train',\n",
    "                                                 target_size = (224, 224),\n",
    "                                                 batch_size = 32,\n",
    "                                                 class_mode = 'categorical')"
   ]
  },
  {
   "cell_type": "code",
   "execution_count": 8,
   "id": "c5e38ed3",
   "metadata": {},
   "outputs": [
    {
     "name": "stdout",
     "output_type": "stream",
     "text": [
      "Found 70 images belonging to 3 classes.\n"
     ]
    }
   ],
   "source": [
    "test_set = test_datagen.flow_from_directory('data/test',\n",
    "                                            target_size = (224, 224),\n",
    "                                            batch_size = 32,\n",
    "                                            class_mode = 'categorical',shuffle=False)"
   ]
  },
  {
   "cell_type": "code",
   "execution_count": 9,
   "id": "a2f7c970",
   "metadata": {
    "scrolled": true
   },
   "outputs": [
    {
     "name": "stderr",
     "output_type": "stream",
     "text": [
      "C:\\Users\\FABHOSTPYTHON\\anaconda3\\lib\\site-packages\\keras\\preprocessing\\image.py:1663: UserWarning: This ImageDataGenerator specifies `featurewise_center`, but it hasn't been fit on any training data. Fit it first by calling `.fit(numpy_data)`.\n",
      "  warnings.warn('This ImageDataGenerator specifies '\n"
     ]
    },
    {
     "name": "stdout",
     "output_type": "stream",
     "text": [
      "Epoch 1/30\n",
      "9/9 [==============================] - 19s 2s/step - loss: 5.6241 - accuracy: 0.3178 - val_loss: 0.8969 - val_accuracy: 0.9000\n",
      "Epoch 2/30\n",
      "9/9 [==============================] - 17s 2s/step - loss: 0.9861 - accuracy: 0.4302 - val_loss: 1.1467 - val_accuracy: 0.2143\n",
      "Epoch 3/30\n",
      "9/9 [==============================] - 18s 2s/step - loss: 0.6371 - accuracy: 0.7326 - val_loss: 0.6933 - val_accuracy: 0.8571\n",
      "Epoch 4/30\n",
      "9/9 [==============================] - 22s 2s/step - loss: 0.3549 - accuracy: 0.8837 - val_loss: 0.5575 - val_accuracy: 0.8429\n",
      "Epoch 5/30\n",
      "9/9 [==============================] - 25s 3s/step - loss: 0.2014 - accuracy: 0.9574 - val_loss: 0.0879 - val_accuracy: 0.9714\n",
      "Epoch 6/30\n",
      "9/9 [==============================] - 19s 2s/step - loss: 0.1664 - accuracy: 0.9574 - val_loss: 0.1182 - val_accuracy: 0.9429\n",
      "Epoch 7/30\n",
      "9/9 [==============================] - 20s 2s/step - loss: 0.1573 - accuracy: 0.9535 - val_loss: 0.0527 - val_accuracy: 0.9857\n",
      "Epoch 8/30\n",
      "9/9 [==============================] - 20s 2s/step - loss: 0.0576 - accuracy: 0.9845 - val_loss: 0.1949 - val_accuracy: 0.9714\n",
      "Epoch 9/30\n",
      "9/9 [==============================] - 27s 3s/step - loss: 0.0762 - accuracy: 0.9806 - val_loss: 0.0323 - val_accuracy: 0.9857\n",
      "Epoch 10/30\n",
      "9/9 [==============================] - 24s 2s/step - loss: 0.0520 - accuracy: 0.9884 - val_loss: 0.0873 - val_accuracy: 0.9857\n",
      "Epoch 11/30\n",
      "9/9 [==============================] - 19s 2s/step - loss: 0.0392 - accuracy: 0.9845 - val_loss: 0.0369 - val_accuracy: 0.9857\n",
      "Epoch 12/30\n",
      "9/9 [==============================] - 19s 2s/step - loss: 0.0503 - accuracy: 0.9884 - val_loss: 0.0331 - val_accuracy: 0.9857\n",
      "Epoch 13/30\n",
      "9/9 [==============================] - 16s 2s/step - loss: 0.0179 - accuracy: 0.9922 - val_loss: 0.0275 - val_accuracy: 0.9857\n",
      "Epoch 14/30\n",
      "9/9 [==============================] - 17s 2s/step - loss: 0.0268 - accuracy: 0.9806 - val_loss: 0.0219 - val_accuracy: 0.9857\n",
      "Epoch 15/30\n",
      "9/9 [==============================] - 21s 2s/step - loss: 0.0394 - accuracy: 0.9884 - val_loss: 0.0459 - val_accuracy: 0.9714\n",
      "Epoch 16/30\n",
      "9/9 [==============================] - 16s 2s/step - loss: 0.0986 - accuracy: 0.9651 - val_loss: 0.4628 - val_accuracy: 0.9143\n",
      "Epoch 17/30\n",
      "9/9 [==============================] - 16s 2s/step - loss: 0.1296 - accuracy: 0.9612 - val_loss: 0.2581 - val_accuracy: 0.9714\n",
      "Epoch 18/30\n",
      "9/9 [==============================] - 18s 2s/step - loss: 0.0584 - accuracy: 0.9845 - val_loss: 0.1536 - val_accuracy: 0.9571\n",
      "Epoch 19/30\n",
      "9/9 [==============================] - 20s 2s/step - loss: 0.1849 - accuracy: 0.9612 - val_loss: 0.1686 - val_accuracy: 0.9571\n",
      "Epoch 20/30\n",
      "9/9 [==============================] - 18s 2s/step - loss: 0.3020 - accuracy: 0.9341 - val_loss: 0.4752 - val_accuracy: 0.9143\n",
      "Epoch 21/30\n",
      "9/9 [==============================] - 17s 2s/step - loss: 0.0813 - accuracy: 0.9767 - val_loss: 0.1010 - val_accuracy: 0.9571\n",
      "Epoch 22/30\n",
      "9/9 [==============================] - 17s 2s/step - loss: 0.0401 - accuracy: 0.9922 - val_loss: 0.0586 - val_accuracy: 0.9857\n",
      "Epoch 23/30\n",
      "9/9 [==============================] - 17s 2s/step - loss: 0.0282 - accuracy: 0.9922 - val_loss: 0.0387 - val_accuracy: 0.9857\n",
      "Epoch 24/30\n",
      "9/9 [==============================] - 22s 3s/step - loss: 0.0142 - accuracy: 0.9961 - val_loss: 0.0130 - val_accuracy: 0.9857\n",
      "Epoch 25/30\n",
      "9/9 [==============================] - 28s 3s/step - loss: 0.0058 - accuracy: 0.9961 - val_loss: 0.0221 - val_accuracy: 0.9857\n",
      "Epoch 26/30\n",
      "9/9 [==============================] - 20s 2s/step - loss: 0.0326 - accuracy: 0.9922 - val_loss: 0.1679 - val_accuracy: 0.9857\n",
      "Epoch 27/30\n",
      "9/9 [==============================] - 22s 2s/step - loss: 0.0626 - accuracy: 0.9922 - val_loss: 0.0431 - val_accuracy: 1.0000\n",
      "Epoch 28/30\n",
      "9/9 [==============================] - 17s 2s/step - loss: 0.0177 - accuracy: 1.0000 - val_loss: 0.1662 - val_accuracy: 0.9857\n",
      "Epoch 29/30\n",
      "9/9 [==============================] - 18s 2s/step - loss: 0.0763 - accuracy: 0.9884 - val_loss: 0.1144 - val_accuracy: 1.0000\n",
      "Epoch 30/30\n",
      "9/9 [==============================] - 17s 2s/step - loss: 0.0341 - accuracy: 0.9884 - val_loss: 0.0072 - val_accuracy: 1.0000\n"
     ]
    }
   ],
   "source": [
    "from PIL import _imaging\n",
    "from PIL import Image\n",
    "import PIL\n",
    "\n",
    "\n",
    "# Run the cell. It will take some time to execute\n",
    "r = Classifier.fit(\n",
    "  training_set,\n",
    "  validation_data=test_set,\n",
    "  epochs=30,\n",
    "  steps_per_epoch=len(training_set),\n",
    "  validation_steps=len(test_set)\n",
    ")"
   ]
  },
  {
   "cell_type": "code",
   "execution_count": 10,
   "id": "c2b749a2",
   "metadata": {},
   "outputs": [
    {
     "data": {
      "image/png": "[encoded data removed]",
      "text/plain": [
       "<Figure size 432x288 with 1 Axes>"
      ]
     },
     "metadata": {
      "needs_background": "light"
     },
     "output_type": "display_data"
    }
   ],
   "source": [
    "import matplotlib.pyplot as plt\n",
    "# plot the loss\n",
    "plt.plot(r.history['loss'], label='train loss')\n",
    "plt.plot(r.history['val_loss'], label='val loss')\n",
    "plt.savefig('LossVal_loss')\n",
    "plt.legend()\n",
    "plt.show()\n"
   ]
  },
  {
   "cell_type": "code",
   "execution_count": 11,
   "id": "a297ee10",
   "metadata": {},
   "outputs": [
    {
     "data": {
      "image/png": "[encoded data removed]",
      "text/plain": [
       "<Figure size 432x288 with 1 Axes>"
      ]
     },
     "metadata": {
      "needs_background": "light"
     },
     "output_type": "display_data"
    }
   ],
   "source": [
    "plt.plot(r.history['accuracy'], label='train acc')\n",
    "plt.plot(r.history['val_accuracy'], label='val acc')\n",
    "plt.savefig('AccVal_acc')\n",
    "plt.legend()\n",
    "plt.show()\n"
   ]
  },
  {
   "cell_type": "code",
   "execution_count": 12,
   "id": "e3ec4fac",
   "metadata": {},
   "outputs": [],
   "source": [
    "Classifier.save('new1.h5')"
   ]
  },
  {
   "cell_type": "code",
   "execution_count": 13,
   "id": "57d99507",
   "metadata": {},
   "outputs": [
    {
     "name": "stdout",
     "output_type": "stream",
     "text": [
      "3/3 [==============================] - 2s 508ms/step - loss: 0.0072 - accuracy: 1.0000\n"
     ]
    }
   ],
   "source": [
    "from keras.utils import Sequence \n",
    "test_score = Classifier.evaluate(test_set)"
   ]
  },
  {
   "cell_type": "code",
   "execution_count": 14,
   "id": "e3b9972e",
   "metadata": {},
   "outputs": [],
   "source": [
    "from sklearn.metrics import classification_report, confusion_matrix\n",
    "import itertools \n",
    "\n",
    "\n",
    "target_names = []\n",
    "for key in training_set.class_indices:\n",
    "    target_names.append(key)"
   ]
  },
  {
   "cell_type": "code",
   "execution_count": 15,
   "id": "08143f0a",
   "metadata": {},
   "outputs": [],
   "source": [
    "def plot_confusion_matrix(cm, classes, normalize=False, title='Confusion matrix', cmap=plt.cm.Blues):\n",
    "    \"\"\"\n",
    "    This function prints and plots the confusion matrix.\n",
    "    Normalization can be applied by setting `normalize=True`.\n",
    "    \"\"\"\n",
    "    \n",
    "    plt.figure(figsize=(10,10))\n",
    "\n",
    "    plt.imshow(cm, interpolation='nearest', cmap=cmap)\n",
    "    plt.title(title)\n",
    "    plt.colorbar()\n",
    "\n",
    "    tick_marks = np.arange(len(classes))\n",
    "    plt.xticks(tick_marks, classes, rotation=45)\n",
    "    plt.yticks(tick_marks, classes)\n",
    "\n",
    "    if normalize:\n",
    "        cm = cm.astype('float') / cm.sum(axis=1)[:, np.newaxis]\n",
    "        cm = np.around(cm, decimals=2)\n",
    "        cm[np.isnan(cm)] = 0.0\n",
    "        print(\"Normalized confusion matrix\")\n",
    "    else:\n",
    "        print('Confusion matrix, without normalization')\n",
    "    thresh = cm.max() / 2.\n",
    "    for i, j in itertools.product(range(cm.shape[0]), range(cm.shape[1])):\n",
    "        plt.text(j, i, cm[i, j],\n",
    "                 horizontalalignment=\"center\",\n",
    "                 color=\"white\" if cm[i, j] > thresh else \"black\")\n",
    "    plt.tight_layout()\n",
    "    plt.ylabel('True label')\n",
    "    plt.xlabel('Predicted label')"
   ]
  },
  {
   "cell_type": "code",
   "execution_count": 16,
   "id": "53407159",
   "metadata": {},
   "outputs": [
    {
     "name": "stdout",
     "output_type": "stream",
     "text": [
      "3/3 [==============================] - 2s 480ms/step\n",
      "Confusion Matrix\n",
      "Confusion matrix, without normalization\n"
     ]
    },
    {
     "data": {
      "image/png": "[encoded data removed]",
      "text/plain": [
       "<Figure size 720x720 with 2 Axes>"
      ]
     },
     "metadata": {
      "needs_background": "light"
     },
     "output_type": "display_data"
    }
   ],
   "source": [
    "#Confution Matrix and Classification Report\n",
    "Y_pred = Classifier.predict(test_set)\n",
    "y_pred = np.argmax(Y_pred, axis=-1)\n",
    "print('Confusion Matrix') \n",
    "cm=confusion_matrix(test_set.classes, y_pred)\n",
    "\n",
    "plot_confusion_matrix(cm, target_names, title='Confusion Matrix')"
   ]
  },
  {
   "cell_type": "code",
   "execution_count": 17,
   "id": "58ddba62",
   "metadata": {},
   "outputs": [
    {
     "name": "stdout",
     "output_type": "stream",
     "text": [
      "Classification Report\n",
      "              precision    recall  f1-score   support\n",
      "\n",
      "           1       1.00      1.00      1.00         5\n",
      "           2       1.00      1.00      1.00         5\n",
      "  background       1.00      1.00      1.00        60\n",
      "\n",
      "    accuracy                           1.00        70\n",
      "   macro avg       1.00      1.00      1.00        70\n",
      "weighted avg       1.00      1.00      1.00        70\n",
      "\n"
     ]
    }
   ],
   "source": [
    "print('Classification Report')\n",
    "print(classification_report(test_set.classes, y_pred, target_names=target_names))"
   ]
  },
  {
   "cell_type": "code",
   "execution_count": 18,
   "id": "6efa82e8",
   "metadata": {},
   "outputs": [],
   "source": [
    "from tensorflow.keras.models import load_model\n",
    "from tensorflow.keras.preprocessing import image"
   ]
  },
  {
   "cell_type": "code",
   "execution_count": 54,
   "id": "be01b304",
   "metadata": {},
   "outputs": [],
   "source": [
    "from tensorflow.keras.models import load_model\n",
    "model=load_model('new1.h5')"
   ]
  },
  {
   "cell_type": "code",
   "execution_count": 59,
   "id": "b25d44b1",
   "metadata": {},
   "outputs": [],
   "source": [
    "img=image.load_img('data/train/1/13.jpg',target_size=(224,224))"
   ]
  },
  {
   "cell_type": "code",
   "execution_count": 60,
   "id": "9fb8d5eb",
   "metadata": {},
   "outputs": [
    {
     "data": {
      "image/png": "[encoded data removed]",
      "text/plain": [
       "<PIL.Image.Image image mode=RGB size=224x224 at 0x1BD9B5302E0>"
      ]
     },
     "execution_count": 60,
     "metadata": {},
     "output_type": "execute_result"
    }
   ],
   "source": [
    "img"
   ]
  },
  {
   "cell_type": "code",
   "execution_count": 61,
   "id": "1e816d5f",
   "metadata": {},
   "outputs": [],
   "source": [
    "test_image=image.img_to_array(img)\n",
    "test_image=np.expand_dims(test_image, axis = 0)"
   ]
  },
  {
   "cell_type": "code",
   "execution_count": 62,
   "id": "5f3a3bed",
   "metadata": {},
   "outputs": [
    {
     "name": "stdout",
     "output_type": "stream",
     "text": [
      "1/1 [==============================] - 0s 149ms/step\n",
      "one\n"
     ]
    }
   ],
   "source": [
    "result = model.predict(test_image)\n",
    "dict={0:\"one\",1:\"two\",2:\"back\"}\n",
    "words = dict[np.argmax(result)]\n",
    "print(words)\n"
   ]
  },
  {
   "cell_type": "code",
   "execution_count": null,
   "id": "ef25068f",
   "metadata": {},
   "outputs": [],
   "source": []
  },
  {
   "cell_type": "code",
   "execution_count": null,
   "id": "b475289b",
   "metadata": {},
   "outputs": [],
   "source": []
  }
 ],
 "metadata": {
  "kernelspec": {
   "display_name": "Python 3",
   "language": "python",
   "name": "python3"
  },
  "language_info": {
   "codemirror_mode": {
    "name": "ipython",
    "version": 3
   },
   "file_extension": ".py",
   "mimetype": "text/x-python",
   "name": "python",
   "nbconvert_exporter": "python",
   "pygments_lexer": "ipython3",
   "version": "3.8.8"
  }
 },
 "nbformat": 4,
 "nbformat_minor": 5
}
